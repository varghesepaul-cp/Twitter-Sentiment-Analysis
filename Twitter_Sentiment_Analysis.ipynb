{
 "cells": [
  {
   "cell_type": "code",
   "execution_count": null,
   "metadata": {},
   "outputs": [],
   "source": [
    "import json\n",
    "f = open(\"Twitter_Keys.json\")  # Create Twitter Developer Account and Generate the Keys \n",
    "data = json.load(f)\n",
    "\n",
    "Consumer_Key = data['API Key']\n",
    "Consumer_Key_Secret = data['API Key Secret']\n",
    "Access_Token = data['Access Token']\n",
    "Access_Token_Secret = data['Access Token Secret']\n",
    "\n",
    "print(Consumer_Key, Consumer_Key_Secret , Access_Token , Access_Token_Secret)\n",
    "f.close()"
   ]
  },
  {
   "cell_type": "code",
   "execution_count": 68,
   "metadata": {},
   "outputs": [],
   "source": [
    "#pip install textblob\n",
    "from textblob import TextBlob\n",
    "import tweepy\n",
    "import matplotlib.pyplot as plt"
   ]
  },
  {
   "cell_type": "code",
   "execution_count": 69,
   "metadata": {},
   "outputs": [],
   "source": [
    "auth = tweepy.OAuth1UserHandler(Consumer_Key , Consumer_Key_Secret)\n",
    "auth.set_access_token(Access_Token , Access_Token_Secret)\n",
    "api = tweepy.API(auth)"
   ]
  },
  {
   "cell_type": "code",
   "execution_count": 70,
   "metadata": {},
   "outputs": [
    {
     "data": {
      "text/plain": [
       "tweepy.api.API"
      ]
     },
     "execution_count": 70,
     "metadata": {},
     "output_type": "execute_result"
    }
   ],
   "source": [
    "type(api)"
   ]
  },
  {
   "cell_type": "code",
   "execution_count": 71,
   "metadata": {},
   "outputs": [
    {
     "data": {
      "text/plain": [
       "tweepy.cursor.ItemIterator"
      ]
     },
     "execution_count": 71,
     "metadata": {},
     "output_type": "execute_result"
    }
   ],
   "source": [
    "search_term = \"ipl\"\n",
    "no_of_tweets = 1000\n",
    "tweets = tweepy.Cursor(api.search_tweets,q=search_term).items(no_of_tweets)\n",
    "# print(tweets)\n",
    "type(tweets)"
   ]
  },
  {
   "cell_type": "code",
   "execution_count": null,
   "metadata": {},
   "outputs": [],
   "source": [
    "tweets = tweepy.Cursor(api.search_tweets,q=search_term).items(no_of_tweets)\n",
    "for tweet in tweets:\n",
    "    print(tweet.text)"
   ]
  },
  {
   "cell_type": "code",
   "execution_count": 73,
   "metadata": {},
   "outputs": [],
   "source": [
    "#Working of TextBlob\n",
    "Utterance_1 = \"I am a bad Photographer\"\n",
    "Utterance_2 = \"I am a good Photographer\"\n",
    "Utterance_3 = \"I am a Photographer\"\n"
   ]
  },
  {
   "cell_type": "code",
   "execution_count": 74,
   "metadata": {},
   "outputs": [
    {
     "name": "stdout",
     "output_type": "stream",
     "text": [
      "-0.6999999999999998\n",
      "0.7\n",
      "0.0\n"
     ]
    }
   ],
   "source": [
    "print(TextBlob(Utterance_1).sentiment.polarity)\n",
    "print(TextBlob(Utterance_2).sentiment.polarity)\n",
    "print(TextBlob(Utterance_3).sentiment.polarity)"
   ]
  },
  {
   "cell_type": "code",
   "execution_count": null,
   "metadata": {},
   "outputs": [],
   "source": [
    "#Applying TextBlob on Tweets\n",
    "negative = 0\n",
    "neutral = 0\n",
    "positive = 0\n",
    "polarity = 0\n",
    "\n",
    "for tweet in tweets:\n",
    "    analysis = TextBlob(tweet.text)\n",
    "    polarity += analysis.sentimennt.polarity\n",
    "\n",
    "    if(analysis.sentiment.polarity == 0.00):\n",
    "        neutral += 1\n",
    "    elif(analysis.sentiment.polarity < 0.00):\n",
    "        negative += 1\n",
    "    elif(analysis.sentiment.polarity > 0.00):\n",
    "        positive += 1\n",
    "\n",
    "print(\"Positive tweets \" , positive)\n",
    "print(\"Negative tweets \" , negative)\n",
    "print(\"Neutral tweets \" , neutral)\n",
    "\n",
    "\n"
   ]
  }
 ],
 "metadata": {
  "interpreter": {
   "hash": "31f2aee4e71d21fbe5cf8b01ff0e069b9275f58929596ceb00d14d90e3e16cd6"
  },
  "kernelspec": {
   "display_name": "Python 3.6.9 64-bit",
   "language": "python",
   "name": "python3"
  },
  "language_info": {
   "codemirror_mode": {
    "name": "ipython",
    "version": 3
   },
   "file_extension": ".py",
   "mimetype": "text/x-python",
   "name": "python",
   "nbconvert_exporter": "python",
   "pygments_lexer": "ipython3",
   "version": "3.6.9"
  },
  "orig_nbformat": 4
 },
 "nbformat": 4,
 "nbformat_minor": 2
}
